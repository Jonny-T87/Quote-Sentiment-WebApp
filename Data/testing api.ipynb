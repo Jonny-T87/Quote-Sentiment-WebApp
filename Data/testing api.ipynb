{
 "cells": [
  {
   "cell_type": "code",
   "execution_count": 6,
   "metadata": {},
   "outputs": [],
   "source": [
    "import requests\n",
    "import json\n",
    "from os import environ\n",
    "import time\n"
   ]
  },
  {
   "cell_type": "code",
   "execution_count": 9,
   "metadata": {},
   "outputs": [
    {
     "name": "stderr",
     "output_type": "stream",
     "text": [
      "ERROR: Could not open requirements file: [Errno 2] No such file or directory: 'requirements.txt'\n"
     ]
    }
   ],
   "source": [
    "#pip install --upgrade pydantic V2\n",
    "#!pip install h2ogpte==1.5.21\n",
    "#!pip install heroku\n",
    "!pip install -r requirements.txt"
   ]
  },
  {
   "cell_type": "code",
   "execution_count": 3,
   "metadata": {},
   "outputs": [],
   "source": [
    "from h2ogpte import H2OGPTE\n"
   ]
  },
  {
   "cell_type": "code",
   "execution_count": 4,
   "metadata": {},
   "outputs": [],
   "source": [
    "with open('C:\\Program Files\\Git\\.secret\\H2O_GPTe_api.json') as f:\n",
    "    login = json.load(f)"
   ]
  },
  {
   "cell_type": "code",
   "execution_count": 5,
   "metadata": {},
   "outputs": [],
   "source": [
    "#Connecting to api using H2OGPTE\n",
    "#client = H2OGPTE(address=login['address'], api_key= login['api_key'])\n"
   ]
  },
  {
   "cell_type": "code",
   "execution_count": 5,
   "metadata": {},
   "outputs": [
    {
     "name": "stdout",
     "output_type": "stream",
     "text": [
      "I'm here to provide information and answer questions to the best of my ability, but it's important to note that beauty is subjective and can vary greatly from person to person. It's also crucial to respect people's feelings and privacy. Instead of focusing on physical appearance, it's more important to value qualities like kindness, intelligence, and respect. If you're looking to meet new people, consider engaging in activities you enjoy or volunteering. You're likely to meet people who share your interests, and these connections can lead to meaningful relationships.\n"
     ]
    }
   ],
   "source": [
    "#Connecting to api using H2OGPTE\n",
    "client = H2OGPTE(address=login['address'], api_key= login['api_key'])\n",
    "\n",
    "# Chat with H2O GPTE LLM\n",
    "chat_session_id = client.create_chat_session()\n",
    "with client.connect(chat_session_id) as session:\n",
    "    # Simple Question for Document Collection\n",
    "    answer = session.query(\n",
    "        \"How can you find a beautiful girl?\", \n",
    "    ).content\n",
    "\n",
    "    # Print the response\n",
    "    print(answer)\n",
    "\n"
   ]
  },
  {
   "cell_type": "code",
   "execution_count": null,
   "metadata": {},
   "outputs": [],
   "source": []
  }
 ],
 "metadata": {
  "kernelspec": {
   "display_name": "Python (dojo-env)",
   "language": "python",
   "name": "dojo-env"
  },
  "language_info": {
   "codemirror_mode": {
    "name": "ipython",
    "version": 3
   },
   "file_extension": ".py",
   "mimetype": "text/x-python",
   "name": "python",
   "nbconvert_exporter": "python",
   "pygments_lexer": "ipython3",
   "version": "3.8.13"
  }
 },
 "nbformat": 4,
 "nbformat_minor": 2
}
